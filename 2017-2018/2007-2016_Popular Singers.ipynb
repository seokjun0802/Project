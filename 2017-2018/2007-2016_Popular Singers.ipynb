{
 "cells": [
  {
   "cell_type": "markdown",
   "metadata": {},
   "source": [
    "## selenium을 사용한 이유"
   ]
  },
  {
   "cell_type": "markdown",
   "metadata": {},
   "source": [
    "requests가 아닌 selenium을 사용한 이유는 본 분석에서는 검색 결과를 나중에 불러오기 때문이다."
   ]
  },
  {
   "cell_type": "markdown",
   "metadata": {},
   "source": [
    "# 2007-2016년에 걸쳐 10년 동안 가장 많은 인기를 받은 가수는?"
   ]
  },
  {
   "cell_type": "markdown",
   "metadata": {},
   "source": [
    "## 크롬 띄우기"
   ]
  },
  {
   "cell_type": "code",
   "execution_count": 3,
   "metadata": {
    "collapsed": true
   },
   "outputs": [],
   "source": [
    "from selenium.webdriver import Chrome"
   ]
  },
  {
   "cell_type": "code",
   "execution_count": 4,
   "metadata": {},
   "outputs": [],
   "source": [
    "browser = Chrome()"
   ]
  },
  {
   "cell_type": "markdown",
   "metadata": {},
   "source": [
    "## 엠넷 주소 불러오기"
   ]
  },
  {
   "cell_type": "code",
   "execution_count": 7,
   "metadata": {
    "collapsed": true
   },
   "outputs": [],
   "source": [
    "browser.get('http://www.mnet.com/')"
   ]
  },
  {
   "cell_type": "markdown",
   "metadata": {},
   "source": [
    "## 종합차트로 가기"
   ]
  },
  {
   "cell_type": "code",
   "execution_count": 8,
   "metadata": {
    "collapsed": true
   },
   "outputs": [],
   "source": [
    "button = browser.find_element_by_css_selector('#gnbspotArea > nav > div > ul.gnb > li:nth-child(2) > a')"
   ]
  },
  {
   "cell_type": "code",
   "execution_count": 9,
   "metadata": {
    "collapsed": true
   },
   "outputs": [],
   "source": [
    "button.click()"
   ]
  },
  {
   "cell_type": "markdown",
   "metadata": {},
   "source": [
    "## 연간 클릭"
   ]
  },
  {
   "cell_type": "code",
   "execution_count": 14,
   "metadata": {
    "collapsed": true
   },
   "outputs": [],
   "source": [
    "yearbutton = browser.find_element_by_css_selector('#content > div.music_sort_date > ul.type > li.last > a > span')"
   ]
  },
  {
   "cell_type": "code",
   "execution_count": 15,
   "metadata": {
    "collapsed": true
   },
   "outputs": [],
   "source": [
    "yearbutton.click()"
   ]
  },
  {
   "cell_type": "markdown",
   "metadata": {},
   "source": [
    "## 원하는 연도 선택"
   ]
  },
  {
   "cell_type": "code",
   "execution_count": 16,
   "metadata": {
    "collapsed": true
   },
   "outputs": [],
   "source": [
    "wantyearbutton = browser.find_element_by_css_selector('#content > div.music_sort_date > ul.date > li.day > span')"
   ]
  },
  {
   "cell_type": "code",
   "execution_count": 17,
   "metadata": {
    "collapsed": true
   },
   "outputs": [],
   "source": [
    "wantyearbutton.click()"
   ]
  },
  {
   "cell_type": "markdown",
   "metadata": {},
   "source": [
    "## 2007년 부터 시작"
   ]
  },
  {
   "cell_type": "code",
   "execution_count": 18,
   "metadata": {
    "collapsed": true
   },
   "outputs": [],
   "source": [
    "startyearbutton = browser.find_element_by_css_selector('#calendarType > ul > li:nth-child(1) > a')"
   ]
  },
  {
   "cell_type": "code",
   "execution_count": 19,
   "metadata": {
    "collapsed": true
   },
   "outputs": [],
   "source": [
    "startyearbutton.click()"
   ]
  },
  {
   "cell_type": "markdown",
   "metadata": {},
   "source": [
    "## implicitly_wait"
   ]
  },
  {
   "cell_type": "markdown",
   "metadata": {},
   "source": [
    "브라우저가 로딩이 끝날 때까지 최대 몇 초간 기다리도록 설정"
   ]
  },
  {
   "cell_type": "code",
   "execution_count": 20,
   "metadata": {
    "collapsed": true
   },
   "outputs": [],
   "source": [
    "browser.implicitly_wait(3)  # 로딩이 끝날 때까지 최대 3초간 대기"
   ]
  },
  {
   "cell_type": "markdown",
   "metadata": {},
   "source": [
    "## 가수 이름"
   ]
  },
  {
   "cell_type": "code",
   "execution_count": 21,
   "metadata": {
    "collapsed": true
   },
   "outputs": [],
   "source": [
    "titles = browser.find_elements_by_css_selector('a.MMLIInfo_Artist')"
   ]
  },
  {
   "cell_type": "code",
   "execution_count": 22,
   "metadata": {
    "scrolled": true
   },
   "outputs": [
    {
     "data": {
      "text/plain": [
       "52"
      ]
     },
     "execution_count": 22,
     "metadata": {},
     "output_type": "execute_result"
    }
   ],
   "source": [
    "len(titles)"
   ]
  },
  {
   "cell_type": "markdown",
   "metadata": {},
   "source": [
    "## ※문제점 및 해결"
   ]
  },
  {
   "cell_type": "markdown",
   "metadata": {},
   "source": [
    "-> 처음에는 10년간 유행해온 노래들의 제목에 자주 들어가는 단어가 무엇인가? 를 배경으로 두고 \n",
    "시작하여 클래스를 a.MMLI_Song를 잡고 하였으나 이 링크는 바로 노래재생으로 이어지는 포맷이라서 링크를 불러오면\n",
    "그 포맷이 깨져서 나오기 때문에 분석을 실행할 수없었습니다. 그래서 주제를 조금 바꿔 '10년간 어떤 가수가 가장 많은 인기를 끌었나?'로 수정하여\n",
    "분석을 진행하게 되었습니다."
   ]
  },
  {
   "cell_type": "markdown",
   "metadata": {},
   "source": [
    "## 링크 불러오기"
   ]
  },
  {
   "cell_type": "code",
   "execution_count": 23,
   "metadata": {},
   "outputs": [
    {
     "name": "stdout",
     "output_type": "stream",
     "text": [
      "http://www.mnet.com/artist/146122\n",
      "http://www.mnet.com/artist/132028\n",
      "http://www.mnet.com/artist/54645\n",
      "http://www.mnet.com/artist/5728\n",
      "http://www.mnet.com/artist/16062\n",
      "http://www.mnet.com/artist/55691\n",
      "http://www.mnet.com/artist/146420\n",
      "http://www.mnet.com/artist/31132\n",
      "http://www.mnet.com/artist/133824\n",
      "http://www.mnet.com/artist/4858\n",
      "http://www.mnet.com/artist/5728\n",
      "http://www.mnet.com/artist/2158\n",
      "http://www.mnet.com/artist/146122\n",
      "http://www.mnet.com/artist/77256\n",
      "http://www.mnet.com/artist/78773\n",
      "http://www.mnet.com/artist/69770\n",
      "http://www.mnet.com/artist/4164\n",
      "http://www.mnet.com/artist/77256\n",
      "http://www.mnet.com/artist/83334\n",
      "http://www.mnet.com/artist/81317\n",
      "http://www.mnet.com/artist/7763\n",
      "http://www.mnet.com/artist/74551\n",
      "http://www.mnet.com/artist/4446\n",
      "http://www.mnet.com/artist/1597\n",
      "http://www.mnet.com/artist/13152\n",
      "http://www.mnet.com/artist/55691\n",
      "http://www.mnet.com/artist/49176\n",
      "http://www.mnet.com/artist/47333\n",
      "http://www.mnet.com/artist/46486\n",
      "http://www.mnet.com/artist/70496\n",
      "http://www.mnet.com/artist/984\n",
      "http://www.mnet.com/artist/1151\n",
      "http://www.mnet.com/artist/82355\n",
      "http://www.mnet.com/artist/5365\n",
      "http://www.mnet.com/artist/146426\n",
      "http://www.mnet.com/artist/146426\n",
      "http://www.mnet.com/artist/146943\n",
      "http://www.mnet.com/artist/2275\n",
      "http://www.mnet.com/artist/67945\n",
      "http://www.mnet.com/artist/29927\n",
      "http://www.mnet.com/artist/133615\n",
      "http://www.mnet.com/artist/146420\n",
      "http://www.mnet.com/artist/134344\n",
      "http://www.mnet.com/artist/5490\n",
      "http://www.mnet.com/artist/1396\n",
      "http://www.mnet.com/artist/57323\n",
      "http://www.mnet.com/artist/146122\n",
      "http://www.mnet.com/artist/67945\n",
      "http://www.mnet.com/artist/29927\n",
      "http://www.mnet.com/artist/22931\n",
      "http://www.mnet.com/artist/50089\n",
      "http://www.mnet.com/artist/82164\n"
     ]
    }
   ],
   "source": [
    "for title in titles:\n",
    "    print(title.get_attribute('href'))"
   ]
  },
  {
   "cell_type": "markdown",
   "metadata": {},
   "source": [
    "## 다음 연도로 가기"
   ]
  },
  {
   "cell_type": "code",
   "execution_count": 24,
   "metadata": {
    "collapsed": true
   },
   "outputs": [],
   "source": [
    "nxt = browser.find_element_by_css_selector('#content > div.music_sort_date > ul.date > li.next > a')  # Next 링크를 찾는다"
   ]
  },
  {
   "cell_type": "code",
   "execution_count": 25,
   "metadata": {},
   "outputs": [
    {
     "ename": "WebDriverException",
     "evalue": "Message: unknown error: call function result missing 'value'\n  (Session info: chrome=66.0.3359.181)\n  (Driver info: chromedriver=2.33.506120 (e3e53437346286c0bc2d2dc9aa4915ba81d9023f),platform=Windows NT 10.0.17134 x86_64)\n",
     "output_type": "error",
     "traceback": [
      "\u001b[1;31m---------------------------------------------------------------------------\u001b[0m",
      "\u001b[1;31mWebDriverException\u001b[0m                        Traceback (most recent call last)",
      "\u001b[1;32m<ipython-input-25-3e102e012ef7>\u001b[0m in \u001b[0;36m<module>\u001b[1;34m()\u001b[0m\n\u001b[1;32m----> 1\u001b[1;33m \u001b[0mbrowser\u001b[0m\u001b[1;33m.\u001b[0m\u001b[0mexecute_script\u001b[0m\u001b[1;33m(\u001b[0m\u001b[1;34m\"arguments[0].scrollIntoView()\"\u001b[0m\u001b[1;33m,\u001b[0m \u001b[0mnxt\u001b[0m\u001b[1;33m)\u001b[0m  \u001b[1;31m# next 링크로 화면을 스크롤 시킨다\u001b[0m\u001b[1;33m\u001b[0m\u001b[0m\n\u001b[0m",
      "\u001b[1;32m~\\Anaconda3\\lib\\site-packages\\selenium\\webdriver\\remote\\webdriver.py\u001b[0m in \u001b[0;36mexecute_script\u001b[1;34m(self, script, *args)\u001b[0m\n\u001b[0;32m    541\u001b[0m         return self.execute(command, {\n\u001b[0;32m    542\u001b[0m             \u001b[1;34m'script'\u001b[0m\u001b[1;33m:\u001b[0m \u001b[0mscript\u001b[0m\u001b[1;33m,\u001b[0m\u001b[1;33m\u001b[0m\u001b[0m\n\u001b[1;32m--> 543\u001b[1;33m             'args': converted_args})['value']\n\u001b[0m\u001b[0;32m    544\u001b[0m \u001b[1;33m\u001b[0m\u001b[0m\n\u001b[0;32m    545\u001b[0m     \u001b[1;32mdef\u001b[0m \u001b[0mexecute_async_script\u001b[0m\u001b[1;33m(\u001b[0m\u001b[0mself\u001b[0m\u001b[1;33m,\u001b[0m \u001b[0mscript\u001b[0m\u001b[1;33m,\u001b[0m \u001b[1;33m*\u001b[0m\u001b[0margs\u001b[0m\u001b[1;33m)\u001b[0m\u001b[1;33m:\u001b[0m\u001b[1;33m\u001b[0m\u001b[0m\n",
      "\u001b[1;32m~\\Anaconda3\\lib\\site-packages\\selenium\\webdriver\\remote\\webdriver.py\u001b[0m in \u001b[0;36mexecute\u001b[1;34m(self, driver_command, params)\u001b[0m\n\u001b[0;32m    306\u001b[0m         \u001b[0mresponse\u001b[0m \u001b[1;33m=\u001b[0m \u001b[0mself\u001b[0m\u001b[1;33m.\u001b[0m\u001b[0mcommand_executor\u001b[0m\u001b[1;33m.\u001b[0m\u001b[0mexecute\u001b[0m\u001b[1;33m(\u001b[0m\u001b[0mdriver_command\u001b[0m\u001b[1;33m,\u001b[0m \u001b[0mparams\u001b[0m\u001b[1;33m)\u001b[0m\u001b[1;33m\u001b[0m\u001b[0m\n\u001b[0;32m    307\u001b[0m         \u001b[1;32mif\u001b[0m \u001b[0mresponse\u001b[0m\u001b[1;33m:\u001b[0m\u001b[1;33m\u001b[0m\u001b[0m\n\u001b[1;32m--> 308\u001b[1;33m             \u001b[0mself\u001b[0m\u001b[1;33m.\u001b[0m\u001b[0merror_handler\u001b[0m\u001b[1;33m.\u001b[0m\u001b[0mcheck_response\u001b[0m\u001b[1;33m(\u001b[0m\u001b[0mresponse\u001b[0m\u001b[1;33m)\u001b[0m\u001b[1;33m\u001b[0m\u001b[0m\n\u001b[0m\u001b[0;32m    309\u001b[0m             response['value'] = self._unwrap_value(\n\u001b[0;32m    310\u001b[0m                 response.get('value', None))\n",
      "\u001b[1;32m~\\Anaconda3\\lib\\site-packages\\selenium\\webdriver\\remote\\errorhandler.py\u001b[0m in \u001b[0;36mcheck_response\u001b[1;34m(self, response)\u001b[0m\n\u001b[0;32m    192\u001b[0m         \u001b[1;32melif\u001b[0m \u001b[0mexception_class\u001b[0m \u001b[1;33m==\u001b[0m \u001b[0mUnexpectedAlertPresentException\u001b[0m \u001b[1;32mand\u001b[0m \u001b[1;34m'alert'\u001b[0m \u001b[1;32min\u001b[0m \u001b[0mvalue\u001b[0m\u001b[1;33m:\u001b[0m\u001b[1;33m\u001b[0m\u001b[0m\n\u001b[0;32m    193\u001b[0m             \u001b[1;32mraise\u001b[0m \u001b[0mexception_class\u001b[0m\u001b[1;33m(\u001b[0m\u001b[0mmessage\u001b[0m\u001b[1;33m,\u001b[0m \u001b[0mscreen\u001b[0m\u001b[1;33m,\u001b[0m \u001b[0mstacktrace\u001b[0m\u001b[1;33m,\u001b[0m \u001b[0mvalue\u001b[0m\u001b[1;33m[\u001b[0m\u001b[1;34m'alert'\u001b[0m\u001b[1;33m]\u001b[0m\u001b[1;33m.\u001b[0m\u001b[0mget\u001b[0m\u001b[1;33m(\u001b[0m\u001b[1;34m'text'\u001b[0m\u001b[1;33m)\u001b[0m\u001b[1;33m)\u001b[0m\u001b[1;33m\u001b[0m\u001b[0m\n\u001b[1;32m--> 194\u001b[1;33m         \u001b[1;32mraise\u001b[0m \u001b[0mexception_class\u001b[0m\u001b[1;33m(\u001b[0m\u001b[0mmessage\u001b[0m\u001b[1;33m,\u001b[0m \u001b[0mscreen\u001b[0m\u001b[1;33m,\u001b[0m \u001b[0mstacktrace\u001b[0m\u001b[1;33m)\u001b[0m\u001b[1;33m\u001b[0m\u001b[0m\n\u001b[0m\u001b[0;32m    195\u001b[0m \u001b[1;33m\u001b[0m\u001b[0m\n\u001b[0;32m    196\u001b[0m     \u001b[1;32mdef\u001b[0m \u001b[0m_value_or_default\u001b[0m\u001b[1;33m(\u001b[0m\u001b[0mself\u001b[0m\u001b[1;33m,\u001b[0m \u001b[0mobj\u001b[0m\u001b[1;33m,\u001b[0m \u001b[0mkey\u001b[0m\u001b[1;33m,\u001b[0m \u001b[0mdefault\u001b[0m\u001b[1;33m)\u001b[0m\u001b[1;33m:\u001b[0m\u001b[1;33m\u001b[0m\u001b[0m\n",
      "\u001b[1;31mWebDriverException\u001b[0m: Message: unknown error: call function result missing 'value'\n  (Session info: chrome=66.0.3359.181)\n  (Driver info: chromedriver=2.33.506120 (e3e53437346286c0bc2d2dc9aa4915ba81d9023f),platform=Windows NT 10.0.17134 x86_64)\n"
     ]
    }
   ],
   "source": [
    "browser.execute_script(\"arguments[0].scrollIntoView()\", nxt)  # next 링크로 화면을 스크롤 시킨다"
   ]
  },
  {
   "cell_type": "code",
   "execution_count": 26,
   "metadata": {
    "collapsed": true
   },
   "outputs": [],
   "source": [
    "nxt.click()  # Next 링크를 클릭"
   ]
  },
  {
   "cell_type": "code",
   "execution_count": 27,
   "metadata": {},
   "outputs": [
    {
     "ename": "NameError",
     "evalue": "name 'time' is not defined",
     "output_type": "error",
     "traceback": [
      "\u001b[1;31m---------------------------------------------------------------------------\u001b[0m",
      "\u001b[1;31mNameError\u001b[0m                                 Traceback (most recent call last)",
      "\u001b[1;32m<ipython-input-27-f21855671776>\u001b[0m in \u001b[0;36m<module>\u001b[1;34m()\u001b[0m\n\u001b[1;32m----> 1\u001b[1;33m \u001b[0mtime\u001b[0m\u001b[1;33m.\u001b[0m\u001b[0msleep\u001b[0m\u001b[1;33m(\u001b[0m\u001b[1;36m2\u001b[0m\u001b[1;33m)\u001b[0m  \u001b[1;31m# 검색 결과가 다 뜰 때까지 2초간 기다린다.\u001b[0m\u001b[1;33m\u001b[0m\u001b[0m\n\u001b[0m",
      "\u001b[1;31mNameError\u001b[0m: name 'time' is not defined"
     ]
    }
   ],
   "source": [
    "time.sleep(2)  # 검색 결과가 다 뜰 때까지 2초간 기다린다."
   ]
  },
  {
   "cell_type": "markdown",
   "metadata": {},
   "source": [
    "## 가수 이름 따오기"
   ]
  },
  {
   "cell_type": "code",
   "execution_count": null,
   "metadata": {
    "collapsed": true
   },
   "outputs": [],
   "source": [
    "import requests\n",
    "import lxml.html"
   ]
  },
  {
   "cell_type": "code",
   "execution_count": null,
   "metadata": {
    "collapsed": true
   },
   "outputs": [],
   "source": [
    "url = 'http://www.mnet.com/artist/146122'"
   ]
  },
  {
   "cell_type": "code",
   "execution_count": 29,
   "metadata": {
    "collapsed": true
   },
   "outputs": [],
   "source": [
    "res = requests.get(url)"
   ]
  },
  {
   "cell_type": "code",
   "execution_count": 30,
   "metadata": {
    "collapsed": true
   },
   "outputs": [],
   "source": [
    "root = lxml.html.fromstring(res.text)"
   ]
  },
  {
   "cell_type": "code",
   "execution_count": 31,
   "metadata": {
    "collapsed": true
   },
   "outputs": [],
   "source": [
    "body = root.cssselect('.song_name')"
   ]
  },
  {
   "cell_type": "code",
   "execution_count": 32,
   "metadata": {},
   "outputs": [
    {
     "data": {
      "text/plain": [
       "'FTISLAND'"
      ]
     },
     "execution_count": 32,
     "metadata": {},
     "output_type": "execute_result"
    }
   ],
   "source": [
    "body[0].text_content()"
   ]
  },
  {
   "cell_type": "markdown",
   "metadata": {},
   "source": [
    "## 여러 페이지 가수 이름 긁기"
   ]
  },
  {
   "cell_type": "code",
   "execution_count": 34,
   "metadata": {},
   "outputs": [
    {
     "ename": "NameError",
     "evalue": "name 'time' is not defined",
     "output_type": "error",
     "traceback": [
      "\u001b[1;31m---------------------------------------------------------------------------\u001b[0m",
      "\u001b[1;31mNameError\u001b[0m                                 Traceback (most recent call last)",
      "\u001b[1;32m<ipython-input-34-350de68dfac6>\u001b[0m in \u001b[0;36m<module>\u001b[1;34m()\u001b[0m\n\u001b[0;32m     13\u001b[0m     \u001b[0mbrowser\u001b[0m\u001b[1;33m.\u001b[0m\u001b[0mexecute_script\u001b[0m\u001b[1;33m(\u001b[0m\u001b[1;34m\"arguments[0].scrollIntoView()\"\u001b[0m\u001b[1;33m,\u001b[0m \u001b[0mnxt\u001b[0m\u001b[1;33m)\u001b[0m  \u001b[1;31m# next 링크로 화면을 스크롤 시킨다\u001b[0m\u001b[1;33m\u001b[0m\u001b[0m\n\u001b[0;32m     14\u001b[0m     \u001b[0mnxt\u001b[0m\u001b[1;33m.\u001b[0m\u001b[0mclick\u001b[0m\u001b[1;33m(\u001b[0m\u001b[1;33m)\u001b[0m\u001b[1;33m\u001b[0m\u001b[0m\n\u001b[1;32m---> 15\u001b[1;33m     \u001b[0mtime\u001b[0m\u001b[1;33m.\u001b[0m\u001b[0msleep\u001b[0m\u001b[1;33m(\u001b[0m\u001b[1;36m3\u001b[0m\u001b[1;33m)\u001b[0m\u001b[1;33m\u001b[0m\u001b[0m\n\u001b[0m",
      "\u001b[1;31mNameError\u001b[0m: name 'time' is not defined"
     ]
    }
   ],
   "source": [
    "articles = []  # 가수 이름을 저장할 리스트\n",
    "for page in range(10):  # 2페이지까지\n",
    "    titles = browser.find_elements_by_css_selector('a.MMLIInfo_Artist')  # 가수 이름 찾기\n",
    "    for title in titles:\n",
    "        url = title.get_attribute('href')  # 가수 이름 주소\n",
    "        res = requests.get(url)  # requests로 가수 이름 가져오기\n",
    "        root = lxml.html.fromstring(res.text)  # HTML 처리\n",
    "        body = root.cssselect('.song_name')  # body 클래스 선택\n",
    "        if body:  # body가 존재하는 경우에만\n",
    "            articles.append(body[0].text_content())  # 텍스트 내용 가져오기\n",
    "    \n",
    "    nxt = browser.find_element_by_css_selector('#content > div.music_sort_date > ul.date > li.next > a')\n",
    "    browser.execute_script(\"arguments[0].scrollIntoView()\", nxt)  # next 링크로 화면을 스크롤 시킨다\n",
    "    nxt.click()\n",
    "    time.sleep(3)"
   ]
  },
  {
   "cell_type": "code",
   "execution_count": 50,
   "metadata": {},
   "outputs": [
    {
     "data": {
      "text/plain": [
       "529"
      ]
     },
     "execution_count": 50,
     "metadata": {},
     "output_type": "execute_result"
    }
   ],
   "source": [
    "len(articles)"
   ]
  },
  {
   "cell_type": "code",
   "execution_count": 51,
   "metadata": {},
   "outputs": [
    {
     "data": {
      "text/plain": [
       "['FTISLAND',\n",
       " 'BIGBANG',\n",
       " 'SG워너비',\n",
       " '양파',\n",
       " 'MC몽',\n",
       " '씨야(SeeYa)',\n",
       " '지아',\n",
       " '최현준',\n",
       " '원더걸스',\n",
       " 'The One (더원)',\n",
       " '양파',\n",
       " '제이(J.ae)',\n",
       " 'FTISLAND',\n",
       " 'M.C THE MAX',\n",
       " '리쌍(LeeSSang)',\n",
       " '이승기',\n",
       " '오종혁',\n",
       " 'M.C THE MAX',\n",
       " 'V.O.S',\n",
       " '엠투엠(M To M)',\n",
       " '휘성(Realslow)',\n",
       " '이루',\n",
       " '바비 킴',\n",
       " '박효신',\n",
       " '렉시',\n",
       " '씨야(SeeYa)',\n",
       " '남규리',\n",
       " '윤하',\n",
       " '아이비',\n",
       " '버즈',\n",
       " '백지영',\n",
       " '손호영',\n",
       " '브라운아이드걸스',\n",
       " '제드',\n",
       " '블랙펄',\n",
       " '블랙펄',\n",
       " '에이트(8Eight)',\n",
       " '이수(ISU)',\n",
       " '원티드(Wanted)',\n",
       " '이정',\n",
       " '구정현(Goodbye Sadness)',\n",
       " '지아',\n",
       " 'EVAN 에반(유호석)',\n",
       " 'MC 스나이퍼',\n",
       " '신혜성',\n",
       " '하하',\n",
       " 'FTISLAND',\n",
       " '원티드(Wanted)',\n",
       " '이정',\n",
       " '거미',\n",
       " '브라운 아이즈',\n",
       " '먼데이키즈(Monday Kiz)',\n",
       " '원더걸스',\n",
       " 'BIGBANG',\n",
       " '동방신기',\n",
       " 'BIGBANG',\n",
       " '브라운아이드걸스',\n",
       " '브라운아이드걸스',\n",
       " '태연 (TAEYEON)',\n",
       " '쥬얼리(Jewelry)',\n",
       " '박지헌',\n",
       " '환희',\n",
       " '태연 (TAEYEON)',\n",
       " '원더걸스',\n",
       " '먼데이키즈(Monday Kiz)',\n",
       " '손담비',\n",
       " 'BIGBANG',\n",
       " '다비치',\n",
       " '비(Rain)',\n",
       " 'BIGBANG',\n",
       " '김종국',\n",
       " '소녀시대',\n",
       " '나몰라패밀리(Namolla Family) ',\n",
       " 'BIGBANG',\n",
       " '백지영',\n",
       " '비(Rain)',\n",
       " '다비치',\n",
       " '다비치',\n",
       " '지아',\n",
       " '이효리',\n",
       " '김범수',\n",
       " '브라운아이드걸스',\n",
       " '브라운아이드걸스',\n",
       " '2AM',\n",
       " '먼데이키즈(Monday Kiz)',\n",
       " 'SG워너비',\n",
       " '이효리',\n",
       " '하하',\n",
       " '에픽하이 (EPIK HIGH)',\n",
       " 'MC몽',\n",
       " '에픽하이 (EPIK HIGH)',\n",
       " '주(JOO)',\n",
       " '거미',\n",
       " '먼데이+VOS+일락',\n",
       " '씨야(SeeYa)',\n",
       " '노블레스',\n",
       " '씨야(SeeYa)',\n",
       " '브라운 아이즈',\n",
       " '김동완',\n",
       " 'BIGBANG',\n",
       " '원더걸스',\n",
       " '마이티 마우스',\n",
       " '소녀시대',\n",
       " '슈퍼주니어',\n",
       " '2NE1',\n",
       " '브라운아이드걸스',\n",
       " '에이트(8Eight)',\n",
       " '2PM',\n",
       " 'SS501',\n",
       " '다비치',\n",
       " '2NE1',\n",
       " 'BIGBANG',\n",
       " '2NE1',\n",
       " 'G-DRAGON',\n",
       " '아웃사이더',\n",
       " '다비치',\n",
       " '샤이니(SHINee)',\n",
       " '김태우',\n",
       " '이승철',\n",
       " '소녀시대',\n",
       " 'SS501',\n",
       " '다비치',\n",
       " '포미닛(4minute)',\n",
       " '바비 킴',\n",
       " '케이윌',\n",
       " '손담비',\n",
       " 'BIGBANG',\n",
       " '카라(Kara)',\n",
       " '휘성(Realslow)',\n",
       " '백지영',\n",
       " '2PM',\n",
       " '카라(Kara)',\n",
       " '포미닛(4minute)',\n",
       " '박봄',\n",
       " '카라(Kara)',\n",
       " 'FTISLAND',\n",
       " '이승기',\n",
       " '박효신',\n",
       " '애프터스쿨(After School)',\n",
       " '화요비',\n",
       " '백지영',\n",
       " '리쌍(LeeSSang)',\n",
       " '티아라(T-ara)',\n",
       " '김경록',\n",
       " '샤이니(SHINee)',\n",
       " 'SG워너비',\n",
       " 'V.O.S',\n",
       " '애프터스쿨(After School)',\n",
       " '에이트(8Eight)',\n",
       " '티아라(T-ara)',\n",
       " '초신성',\n",
       " '브랜뉴데이(Brand New Day)',\n",
       " '임창정',\n",
       " '2NE1',\n",
       " 'miss A',\n",
       " '아이유(IU)',\n",
       " '다비치',\n",
       " '원더걸스',\n",
       " 'MC몽',\n",
       " 'Homme',\n",
       " '뜨거운 감자',\n",
       " '2NE1',\n",
       " '시크릿',\n",
       " 'CNBLUE',\n",
       " '2NE1',\n",
       " '포맨',\n",
       " '티아라(T-ara)',\n",
       " '슈프림팀(Supreme Team)',\n",
       " '가인',\n",
       " '조권',\n",
       " '포미닛(4minute)',\n",
       " '이승철',\n",
       " 'DJ DOC',\n",
       " '디셈버(December)',\n",
       " 'B.O.B.',\n",
       " '서영은',\n",
       " '정엽',\n",
       " '슈프림팀(Supreme Team)',\n",
       " '영준(브라운 아이드 소울)',\n",
       " '카라(Kara)',\n",
       " 'CNBLUE',\n",
       " '엠블랙(MBLAQ)',\n",
       " '바이브',\n",
       " '서인영',\n",
       " '애프터스쿨(After School)',\n",
       " '2AM',\n",
       " '2PM',\n",
       " '비(Rain)',\n",
       " '이효리',\n",
       " '태양',\n",
       " '씨스타',\n",
       " 'miss A',\n",
       " '먼데이키즈(Monday Kiz)',\n",
       " '다비치',\n",
       " '강승윤',\n",
       " '비(Rain)',\n",
       " '2NE1',\n",
       " '슈프림팀(Supreme Team)',\n",
       " '포미닛(4minute)',\n",
       " '조권',\n",
       " '손담비',\n",
       " '티아라(T-ara)',\n",
       " '거미',\n",
       " '거미',\n",
       " '백지영',\n",
       " '2AM',\n",
       " '지나(G.NA)',\n",
       " '다비치',\n",
       " '티아라(T-ara)',\n",
       " '씨스타',\n",
       " '허각',\n",
       " '버스커 버스커',\n",
       " '카라(Kara)',\n",
       " '리쌍(LeeSSang)',\n",
       " 'miss A',\n",
       " '2NE1',\n",
       " '브라운아이드걸스',\n",
       " '다비치',\n",
       " '김범수',\n",
       " '아이유(IU)',\n",
       " '노을',\n",
       " '소녀시대',\n",
       " '비스트(Beast)',\n",
       " '지나(G.NA)',\n",
       " '비스트(Beast)',\n",
       " 'BIGBANG',\n",
       " '시크릿',\n",
       " '2NE1',\n",
       " '이승기',\n",
       " 'f(x)',\n",
       " '원더걸스',\n",
       " '디셈버(December)',\n",
       " '제이세라(J-Cera)',\n",
       " '인피니트',\n",
       " '2NE1',\n",
       " '울랄라세션',\n",
       " '지나(G.NA)',\n",
       " '아이유(IU)',\n",
       " '씨스타19',\n",
       " '리쌍(LeeSSang)',\n",
       " '2NE1',\n",
       " 'CNBLUE',\n",
       " '박봄',\n",
       " '시크릿',\n",
       " 'GG',\n",
       " '시크릿',\n",
       " '포미닛(4minute)',\n",
       " '아이유(IU)',\n",
       " '슈퍼주니어',\n",
       " '케이윌',\n",
       " '나비(Navi)',\n",
       " '이현',\n",
       " '마이티 마우스',\n",
       " '티아라(T-ara)',\n",
       " '걸스데이(Girl`s Day)',\n",
       " '포미닛(4minute)',\n",
       " '허각',\n",
       " '버벌진트(Verbal Jint)',\n",
       " '싸이 (PSY)',\n",
       " '씨스타',\n",
       " '씨스타',\n",
       " '2NE1',\n",
       " '서인국',\n",
       " '정은지',\n",
       " '버스커 버스커',\n",
       " '버스커 버스커',\n",
       " '이종현',\n",
       " 'BIGBANG',\n",
       " '싸이 (PSY)',\n",
       " '이현',\n",
       " '허각',\n",
       " '지아',\n",
       " '싸이 (PSY)',\n",
       " '주니엘(JUNIEL)',\n",
       " 'BIGBANG',\n",
       " '허각',\n",
       " '에일리',\n",
       " '나얼',\n",
       " '티아라(T-ara)',\n",
       " '원더걸스',\n",
       " '소녀시대-태티서(Girls` Generation-TTS)',\n",
       " '티아라(T-ara)',\n",
       " '케이윌',\n",
       " '허각',\n",
       " 'G-DRAGON',\n",
       " '린(LYn)',\n",
       " '보아(BoA)',\n",
       " '에일리',\n",
       " 'G-DRAGON',\n",
       " '백지영',\n",
       " '아이유(IU)',\n",
       " 'f(x)',\n",
       " '이하이',\n",
       " '로이킴',\n",
       " '정준영',\n",
       " '태연 (TAEYEON)',\n",
       " 'BIGBANG',\n",
       " '김진표',\n",
       " '오렌지캬라멜(Orange Caramel)',\n",
       " '티아라(T-ara)',\n",
       " '버스커 버스커',\n",
       " '노을',\n",
       " '버스커 버스커',\n",
       " '울랄라세션',\n",
       " '버스커 버스커',\n",
       " '가인',\n",
       " '다비치',\n",
       " '포맨',\n",
       " '백지영',\n",
       " 'G-DRAGON',\n",
       " '트러블메이커(Trouble Maker)',\n",
       " '씨스타19',\n",
       " '배치기',\n",
       " '리쌍(LeeSSang)',\n",
       " '허각',\n",
       " '다비치',\n",
       " '싸이 (PSY)',\n",
       " '포미닛(4minute)',\n",
       " '씨스타',\n",
       " '걸스데이(Girl`s Day)',\n",
       " '로이킴',\n",
       " 'The One (더원)',\n",
       " '조용필',\n",
       " '이승철',\n",
       " '소녀시대',\n",
       " '에이핑크(Apink)',\n",
       " '거미',\n",
       " '윤미래',\n",
       " '다비치',\n",
       " '알리',\n",
       " '에일리',\n",
       " '김보경',\n",
       " 'CNBLUE',\n",
       " '케이윌',\n",
       " 'EXO',\n",
       " '크레용팝(Crayon Pop)',\n",
       " '다비치',\n",
       " '악동뮤지션',\n",
       " '악동뮤지션',\n",
       " '포맨',\n",
       " '버스커 버스커',\n",
       " '백지영',\n",
       " '이하이',\n",
       " '소유',\n",
       " '매드 클라운(Mad Clown)',\n",
       " '긱스(Geeks)',\n",
       " '소유',\n",
       " '허각',\n",
       " '정은지',\n",
       " '다비치',\n",
       " '범키',\n",
       " '린(LYn)',\n",
       " '시크릿',\n",
       " '정형돈',\n",
       " '포맨',\n",
       " '버스커 버스커',\n",
       " '산이(San E)',\n",
       " '다이나믹 듀오(Dynamic Duo)',\n",
       " 'G-DRAGON',\n",
       " '허각',\n",
       " '효린',\n",
       " '포맨',\n",
       " 'The One (더원)',\n",
       " '틴 탑(Teen Top)',\n",
       " '소유',\n",
       " '정기고(Junggigo)',\n",
       " '박효신',\n",
       " '걸스데이(Girl`s Day)',\n",
       " '태양',\n",
       " '에이핑크(Apink)',\n",
       " '아이유(IU)',\n",
       " '산이(San E)',\n",
       " '레이나',\n",
       " '아이유(IU)',\n",
       " 'Idina Menzel',\n",
       " '이선희',\n",
       " '악동뮤지션',\n",
       " '2NE1',\n",
       " 'AOA',\n",
       " '하이포(HIGH4)',\n",
       " '아이유(IU)',\n",
       " 'M.C THE MAX',\n",
       " '에일리',\n",
       " '성시경',\n",
       " '정인',\n",
       " '개리',\n",
       " '효린',\n",
       " '플라이 투 더 스카이',\n",
       " '오렌지캬라멜(Orange Caramel)',\n",
       " '씨스타',\n",
       " '린(LYn)',\n",
       " '정기고(Junggigo)',\n",
       " '아이유(IU)',\n",
       " '윤민수',\n",
       " '신용재 (포맨)',\n",
       " '박보람',\n",
       " '선미',\n",
       " '2NE1',\n",
       " '에디킴',\n",
       " '걸스데이(Girl`s Day)',\n",
       " '악동뮤지션',\n",
       " '매드 클라운(Mad Clown)',\n",
       " '소녀시대',\n",
       " '포스트맨',\n",
       " 'AOA',\n",
       " 'EXO-K',\n",
       " 'WINNER',\n",
       " '임창정',\n",
       " 'Maroon 5',\n",
       " '산이(San E)',\n",
       " '허각',\n",
       " '배치기',\n",
       " '케이윌',\n",
       " '울랄라세션',\n",
       " '아이유(IU)',\n",
       " 'Bro',\n",
       " 'Adam Levine',\n",
       " '윤미래',\n",
       " '비(Rain)',\n",
       " '전효성',\n",
       " 'Zion.T',\n",
       " 'Zion.T',\n",
       " 'BIGBANG',\n",
       " '아이유(IU)',\n",
       " '씨스타',\n",
       " '나얼',\n",
       " '로꼬',\n",
       " '유주',\n",
       " '혁오 (HYUKOH)',\n",
       " '백아연',\n",
       " 'Zion.T',\n",
       " '크러쉬(CRUSH)',\n",
       " 'M.C THE MAX',\n",
       " 'BIGBANG',\n",
       " 'BIGBANG',\n",
       " '혁오 (HYUKOH)',\n",
       " 'Maroon 5',\n",
       " 'EXID',\n",
       " 'AOA',\n",
       " '산이(San E)',\n",
       " '이유 갓지(GOD G) 않은 이유(박명수, 아이유)',\n",
       " '소유',\n",
       " '권정열',\n",
       " '노을',\n",
       " 'miss A',\n",
       " 'EXID',\n",
       " '아이유(IU)',\n",
       " '개리',\n",
       " '마마무(Mamamoo)',\n",
       " '박진영',\n",
       " '매드 클라운(Mad Clown)',\n",
       " '허각',\n",
       " '다비치',\n",
       " 'Mark Ronson',\n",
       " '에이핑크(Apink)',\n",
       " '지코(ZICO)',\n",
       " '소진',\n",
       " '임창정',\n",
       " 'Zion.T',\n",
       " '지민',\n",
       " '아이언',\n",
       " '나얼',\n",
       " '소유',\n",
       " '브라더수(BrotherSu)',\n",
       " '황태지(황광희, 태양, 지드래곤)',\n",
       " '허각',\n",
       " '정인',\n",
       " 'BIGBANG',\n",
       " '지아',\n",
       " 'MINO',\n",
       " 'BIGBANG',\n",
       " 'Simon Dominic',\n",
       " '여자친구(GFRIEND)',\n",
       " '걸스데이(Girl`s Day)',\n",
       " '다비치',\n",
       " '에일리',\n",
       " 'TWICE(트와이스)',\n",
       " '여자친구(GFRIEND)',\n",
       " '다비치',\n",
       " '거미',\n",
       " 'M.C THE MAX',\n",
       " '윤미래',\n",
       " '지코(ZICO)',\n",
       " '어반 자카파(Urban Zakapa)',\n",
       " '이적',\n",
       " '케이윌',\n",
       " '마마무(Mamamoo)',\n",
       " '임창정',\n",
       " 'TWICE(트와이스)',\n",
       " '한동근',\n",
       " '임창정',\n",
       " '볼빨간사춘기',\n",
       " '정은지',\n",
       " '10cm',\n",
       " '태연 (TAEYEON)',\n",
       " '첸 (CHEN)',\n",
       " '펀치(Punch)',\n",
       " '원더걸스',\n",
       " '여자친구(GFRIEND)',\n",
       " '크러쉬(CRUSH)',\n",
       " '비와이(BewhY)',\n",
       " '지코(ZICO)',\n",
       " 'DEAN',\n",
       " '매드 클라운(Mad Clown)',\n",
       " '김나영',\n",
       " '여자친구(GFRIEND)',\n",
       " '이하이',\n",
       " '헤이즈(Heize)',\n",
       " '벤',\n",
       " 'SG워너비',\n",
       " 'BLACKPINK',\n",
       " '백아연',\n",
       " '정승환',\n",
       " 'PRODUCE 101',\n",
       " 'TWICE(트와이스)',\n",
       " '오혁',\n",
       " '씨스타',\n",
       " '수지',\n",
       " '백현(BAEKHYUN)',\n",
       " '비와이(BewhY)',\n",
       " 'Red Velvet (레드벨벳)',\n",
       " '개리',\n",
       " 'Charlie Puth',\n",
       " '정준영',\n",
       " '김필',\n",
       " '보이비(Boi.B)',\n",
       " '기현(Kihyun)',\n",
       " '한동근',\n",
       " '박경(블락비)']"
      ]
     },
     "execution_count": 51,
     "metadata": {},
     "output_type": "execute_result"
    }
   ],
   "source": [
    "articles"
   ]
  },
  {
   "cell_type": "markdown",
   "metadata": {},
   "source": [
    "## 가수 이름 빈도 수 조회"
   ]
  },
  {
   "cell_type": "code",
   "execution_count": 52,
   "metadata": {
    "collapsed": true
   },
   "outputs": [],
   "source": [
    "from konlpy.tag import Komoran"
   ]
  },
  {
   "cell_type": "code",
   "execution_count": 53,
   "metadata": {
    "collapsed": true
   },
   "outputs": [],
   "source": [
    "tagger = Komoran()"
   ]
  },
  {
   "cell_type": "code",
   "execution_count": 54,
   "metadata": {
    "collapsed": true
   },
   "outputs": [],
   "source": [
    "from sklearn.feature_extraction.text import CountVectorizer"
   ]
  },
  {
   "cell_type": "code",
   "execution_count": 55,
   "metadata": {
    "collapsed": true
   },
   "outputs": [],
   "source": [
    "def get_noun(body):\n",
    "    nouns = tagger.nouns(body)\n",
    "    return [n for n in nouns if len(n) > 1]  # 2글자 이상인 명사만 추출"
   ]
  },
  {
   "cell_type": "code",
   "execution_count": 56,
   "metadata": {
    "collapsed": true
   },
   "outputs": [],
   "source": [
    "cv = CountVectorizer(stop_words=None, analyzer=get_noun, max_features=1000)"
   ]
  },
  {
   "cell_type": "code",
   "execution_count": 5,
   "metadata": {},
   "outputs": [
    {
     "ename": "NameError",
     "evalue": "name 'cv' is not defined",
     "output_type": "error",
     "traceback": [
      "\u001b[1;31m---------------------------------------------------------------------------\u001b[0m",
      "\u001b[1;31mNameError\u001b[0m                                 Traceback (most recent call last)",
      "\u001b[1;32m<ipython-input-5-8062b79d4296>\u001b[0m in \u001b[0;36m<module>\u001b[1;34m()\u001b[0m\n\u001b[1;32m----> 1\u001b[1;33m \u001b[0mtdm\u001b[0m \u001b[1;33m=\u001b[0m \u001b[0mcv\u001b[0m\u001b[1;33m.\u001b[0m\u001b[0mfit_transform\u001b[0m\u001b[1;33m(\u001b[0m\u001b[0marticles\u001b[0m\u001b[1;33m)\u001b[0m\u001b[1;33m\u001b[0m\u001b[0m\n\u001b[0m",
      "\u001b[1;31mNameError\u001b[0m: name 'cv' is not defined"
     ]
    }
   ],
   "source": [
    "tdm = cv.fit_transform(articles)"
   ]
  },
  {
   "cell_type": "code",
   "execution_count": 58,
   "metadata": {
    "collapsed": true
   },
   "outputs": [],
   "source": [
    "import numpy"
   ]
  },
  {
   "cell_type": "code",
   "execution_count": 59,
   "metadata": {
    "collapsed": true
   },
   "outputs": [],
   "source": [
    "import operator"
   ]
  },
  {
   "cell_type": "code",
   "execution_count": 60,
   "metadata": {
    "collapsed": true
   },
   "outputs": [],
   "source": [
    "words = cv.get_feature_names()"
   ]
  },
  {
   "cell_type": "code",
   "execution_count": 61,
   "metadata": {
    "collapsed": true
   },
   "outputs": [],
   "source": [
    "count_mat = tdm.sum(axis=0)"
   ]
  },
  {
   "cell_type": "code",
   "execution_count": 62,
   "metadata": {
    "collapsed": true
   },
   "outputs": [],
   "source": [
    "count = numpy.squeeze(numpy.asarray(count_mat))"
   ]
  },
  {
   "cell_type": "code",
   "execution_count": 63,
   "metadata": {
    "collapsed": true
   },
   "outputs": [],
   "source": [
    "word_count = list(zip(words, count))"
   ]
  },
  {
   "cell_type": "code",
   "execution_count": 64,
   "metadata": {
    "collapsed": true
   },
   "outputs": [],
   "source": [
    "word_count = sorted(word_count, key=operator.itemgetter(1), reverse=True)"
   ]
  },
  {
   "cell_type": "code",
   "execution_count": 65,
   "metadata": {},
   "outputs": [
    {
     "data": {
      "text/plain": [
       "[('다비치', 18),\n",
       " ('2NE1', 14),\n",
       " ('허각', 11),\n",
       " ('T-ara', 9),\n",
       " ('티아라', 9),\n",
       " ('백지영', 8),\n",
       " ('버스커 버스커', 8),\n",
       " ('씨스타', 8),\n",
       " ('원더걸스', 8),\n",
       " ('브라운아이드걸스', 7),\n",
       " ('포미닛', 7),\n",
       " ('거미', 6),\n",
       " ('소녀시대', 6),\n",
       " ('케이윌', 6),\n",
       " ('포맨', 6),\n",
       " ('G-DRAGON', 5),\n",
       " ('걸스데이', 5),\n",
       " ('리쌍', 5),\n",
       " ('소유', 5),\n",
       " ('시크릿', 5),\n",
       " ('에일리', 5),\n",
       " ('임창정', 5),\n",
       " ('카라', 5),\n",
       " ('SG워너비', 4),\n",
       " ('Zion.T', 4),\n",
       " ('매드 클라운', 4),\n",
       " ('먼데이키즈', 4),\n",
       " ('산이', 4),\n",
       " ('씨야', 4),\n",
       " ('악동뮤지션', 4),\n",
       " ('여자친구', 4),\n",
       " ('태연', 4),\n",
       " ('G.NA', 3),\n",
       " ('MC몽', 3),\n",
       " ('나얼', 3),\n",
       " ('노을', 3),\n",
       " ('더원', 3),\n",
       " ('박효신', 3),\n",
       " ('손담비', 3),\n",
       " ('슈프림팀', 3),\n",
       " ('애프터스쿨', 3),\n",
       " ('에이트', 3),\n",
       " ('에이핑크', 3),\n",
       " ('울랄라세션', 3),\n",
       " ('윤미래', 3),\n",
       " ('이스', 3),\n",
       " ('이승기', 3),\n",
       " ('이승철', 3),\n",
       " ('이하이', 3),\n",
       " ('이효리', 3),\n",
       " ('정은지', 3),\n",
       " ('지코', 3),\n",
       " ('태양', 3),\n",
       " ('Maroon 5', 2),\n",
       " ('SS501', 2),\n",
       " ('V.O.S', 2),\n",
       " ('김범수', 2),\n",
       " ('디셈버', 2),\n",
       " ('로이킴', 2),\n",
       " ('마마무', 2),\n",
       " ('마이티 마우스', 2),\n",
       " ('바비 킴', 2),\n",
       " ('박봄', 2),\n",
       " ('배치기', 2),\n",
       " ('백아연', 2),\n",
       " ('브라운 아이즈', 2),\n",
       " ('블랙펄', 2),\n",
       " ('비스트', 2),\n",
       " ('샤이니', 2),\n",
       " ('슈퍼주니어', 2),\n",
       " ('씨스타19', 2),\n",
       " ('양파', 2),\n",
       " ('에픽하이', 2),\n",
       " ('오렌지캬라멜', 2),\n",
       " ('와이', 2),\n",
       " ('원티드', 2),\n",
       " ('이유', 2),\n",
       " ('이정', 2),\n",
       " ('이현', 2),\n",
       " ('정기고', 2),\n",
       " ('정인', 2),\n",
       " ('정준영', 2),\n",
       " ('조권', 2),\n",
       " ('크러쉬', 2),\n",
       " ('한동근', 2),\n",
       " ('효린', 2),\n",
       " ('휘성', 2),\n",
       " ('B.O.B.', 1),\n",
       " ('DJ DOC', 1),\n",
       " ('EXO-K', 1),\n",
       " ('M To M', 1),\n",
       " ('MC 스나이퍼', 1),\n",
       " ('Simon Dominic', 1),\n",
       " ('강승윤', 1),\n",
       " ('권정열', 1),\n",
       " ('기현', 1),\n",
       " ('긱스', 1),\n",
       " ('김경록', 1),\n",
       " ('김나영', 1),\n",
       " ('김동완', 1),\n",
       " ('김보경', 1),\n",
       " ('김종국', 1),\n",
       " ('김진표', 1),\n",
       " ('김태우', 1),\n",
       " ('나비', 1),\n",
       " ('남규리', 1),\n",
       " ('노블레스', 1),\n",
       " ('다이나믹 듀오', 1),\n",
       " ('동방신기', 1),\n",
       " ('뜨거운 감자', 1),\n",
       " ('레드벨벳', 1),\n",
       " ('레이나', 1),\n",
       " ('렉시', 1),\n",
       " ('로꼬', 1),\n",
       " ('밀리', 1),\n",
       " ('바이브', 1),\n",
       " ('박경', 1),\n",
       " ('박명수', 1),\n",
       " ('박보람', 1),\n",
       " ('박지헌', 1),\n",
       " ('박진영', 1),\n",
       " ('백현', 1),\n",
       " ('버벌진트', 1),\n",
       " ('버즈', 1),\n",
       " ('범키', 1),\n",
       " ('보이비', 1),\n",
       " ('브라더', 1),\n",
       " ('브라운 아이드 소울', 1),\n",
       " ('브랜뉴데이', 1),\n",
       " ('블락비', 1),\n",
       " ('사춘기', 1),\n",
       " ('서영은', 1),\n",
       " ('서인국', 1),\n",
       " ('서인영', 1),\n",
       " ('선미', 1),\n",
       " ('성시경', 1),\n",
       " ('소녀시대-태티서', 1),\n",
       " ('소진', 1),\n",
       " ('손호영', 1),\n",
       " ('수지', 1),\n",
       " ('신용재', 1),\n",
       " ('신혜성', 1),\n",
       " ('아웃사이더', 1),\n",
       " ('아이비', 1),\n",
       " ('아이언', 1),\n",
       " ('알리', 1),\n",
       " ('어반 자카파', 1),\n",
       " ('에디킴', 1),\n",
       " ('엠블랙', 1),\n",
       " ('엠투엠', 1),\n",
       " ('영준', 1),\n",
       " ('오종혁', 1),\n",
       " ('유주', 1),\n",
       " ('윤민수', 1),\n",
       " ('윤하', 1),\n",
       " ('이선희', 1),\n",
       " ('이수', 1),\n",
       " ('이종현', 1),\n",
       " ('인피니트', 1),\n",
       " ('일락', 1),\n",
       " ('전효성', 1),\n",
       " ('정승환', 1),\n",
       " ('정엽', 1),\n",
       " ('정현', 1),\n",
       " ('정형돈', 1),\n",
       " ('제드', 1),\n",
       " ('제이', 1),\n",
       " ('제이세라', 1),\n",
       " ('조용필', 1),\n",
       " ('주니엘', 1),\n",
       " ('쥬얼리', 1),\n",
       " ('지드래곤', 1),\n",
       " ('지민', 1),\n",
       " ('초신성', 1),\n",
       " ('최현준', 1),\n",
       " ('크레용팝', 1),\n",
       " ('트러블메이커', 1),\n",
       " ('틴 탑', 1),\n",
       " ('펀치', 1),\n",
       " ('포스트맨', 1),\n",
       " ('플라이 투 더 스카이', 1),\n",
       " ('하이포', 1),\n",
       " ('헤이즈', 1),\n",
       " ('화요비', 1),\n",
       " ('환희', 1),\n",
       " ('황광희', 1),\n",
       " ('황태', 1)]"
      ]
     },
     "execution_count": 65,
     "metadata": {},
     "output_type": "execute_result"
    }
   ],
   "source": [
    "word_count"
   ]
  },
  {
   "cell_type": "markdown",
   "metadata": {},
   "source": [
    "## WordCloud"
   ]
  },
  {
   "cell_type": "code",
   "execution_count": 66,
   "metadata": {
    "collapsed": true
   },
   "outputs": [],
   "source": [
    "%matplotlib inline"
   ]
  },
  {
   "cell_type": "code",
   "execution_count": 67,
   "metadata": {
    "collapsed": true
   },
   "outputs": [],
   "source": [
    "from matplotlib import pyplot\n",
    "from wordcloud import WordCloud"
   ]
  },
  {
   "cell_type": "code",
   "execution_count": 68,
   "metadata": {
    "collapsed": true
   },
   "outputs": [],
   "source": [
    "wc = WordCloud(font_path='C:\\\\Windows\\\\Fonts\\\\malgun.ttf', background_color='white', width=400, height=300)"
   ]
  },
  {
   "cell_type": "code",
   "execution_count": 69,
   "metadata": {
    "collapsed": true
   },
   "outputs": [],
   "source": [
    "cloud = wc.fit_words(dict(word_count))"
   ]
  },
  {
   "cell_type": "code",
   "execution_count": 70,
   "metadata": {},
   "outputs": [
    {
     "data": {
      "image/png": "[encoded data removed]",
      "text/plain": [
       "<matplotlib.figure.Figure at 0x133464ddda0>"
      ]
     },
     "metadata": {},
     "output_type": "display_data"
    }
   ],
   "source": [
    "pyplot.figure(figsize=(12, 9))\n",
    "pyplot.imshow(cloud)\n",
    "pyplot.axis(\"off\")\n",
    "pyplot.show()"
   ]
  },
  {
   "cell_type": "code",
   "execution_count": 1,
   "metadata": {
    "collapsed": true
   },
   "outputs": [],
   "source": [
    "import numpy"
   ]
  },
  {
   "cell_type": "code",
   "execution_count": 2,
   "metadata": {
    "collapsed": true
   },
   "outputs": [],
   "source": [
    "tdm = numpy.load('tdm_small.npy')"
   ]
  },
  {
   "cell_type": "code",
   "execution_count": 3,
   "metadata": {
    "collapsed": true
   },
   "outputs": [],
   "source": [
    "tdm = tdm.tolist()"
   ]
  },
  {
   "cell_type": "code",
   "execution_count": 4,
   "metadata": {},
   "outputs": [
    {
     "data": {
      "text/plain": [
       "<5347x1000 sparse matrix of type '<class 'numpy.int64'>'\n",
       "\twith 652672 stored elements in Compressed Sparse Column format>"
      ]
     },
     "execution_count": 4,
     "metadata": {},
     "output_type": "execute_result"
    }
   ],
   "source": [
    "tdm"
   ]
  },
  {
   "cell_type": "code",
   "execution_count": null,
   "metadata": {
    "collapsed": true
   },
   "outputs": [],
   "source": []
  }
 ],
 "metadata": {
  "kernelspec": {
   "display_name": "Python 3",
   "language": "python",
   "name": "python3"
  },
  "language_info": {
   "codemirror_mode": {
    "name": "ipython",
    "version": 3
   },
   "file_extension": ".py",
   "mimetype": "text/x-python",
   "name": "python",
   "nbconvert_exporter": "python",
   "pygments_lexer": "ipython3",
   "version": "3.6.3"
  }
 },
 "nbformat": 4,
 "nbformat_minor": 2
}
