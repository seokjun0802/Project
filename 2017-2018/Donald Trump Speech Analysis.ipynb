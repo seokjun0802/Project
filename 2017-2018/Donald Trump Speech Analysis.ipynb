{
 "cells": [
  {
   "cell_type": "markdown",
   "metadata": {},
   "source": [
    "# selenium을 사용한 이유"
   ]
  },
  {
   "cell_type": "markdown",
   "metadata": {},
   "source": [
    "selenium이 아닌 requests를 사용해서 할 경우"
   ]
  },
  {
   "cell_type": "code",
   "execution_count": 1,
   "metadata": {
    "collapsed": true
   },
   "outputs": [],
   "source": [
    "from urllib.parse import quote_plus\n",
    "\n",
    "import requests\n",
    "import lxml.html"
   ]
  },
  {
   "cell_type": "code",
   "execution_count": 2,
   "metadata": {
    "collapsed": true
   },
   "outputs": [],
   "source": [
    "query = 'President%20Donald%20Trump%27s%20speech'  "
   ]
  },
  {
   "cell_type": "markdown",
   "metadata": {},
   "source": [
    "본 사이트는 requests를 사용하게 될 경우 query에 들어가야 할 구조가 너무 복잡해지기 때문에 이 경우에서는 selenium이 requests를 사용하는 것 보다 편리하다."
   ]
  },
  {
   "cell_type": "code",
   "execution_count": 3,
   "metadata": {
    "collapsed": true
   },
   "outputs": [],
   "source": [
    "url = 'http://www.politico.com/search/{page}?q={query}'"
   ]
  },
  {
   "cell_type": "code",
   "execution_count": 4,
   "metadata": {},
   "outputs": [
    {
     "ename": "IndexError",
     "evalue": "list index out of range",
     "output_type": "error",
     "traceback": [
      "\u001b[1;31m---------------------------------------------------------------------------\u001b[0m",
      "\u001b[1;31mIndexError\u001b[0m                                Traceback (most recent call last)",
      "\u001b[1;32m<ipython-input-4-5977246f1bc5>\u001b[0m in \u001b[0;36m<module>\u001b[1;34m()\u001b[0m\n\u001b[0;32m      7\u001b[0m         \u001b[0mnews\u001b[0m \u001b[1;33m=\u001b[0m \u001b[0mrequests\u001b[0m\u001b[1;33m.\u001b[0m\u001b[0mget\u001b[0m\u001b[1;33m(\u001b[0m\u001b[0mlink\u001b[0m\u001b[1;33m.\u001b[0m\u001b[0mattrib\u001b[0m\u001b[1;33m[\u001b[0m\u001b[1;34m'href'\u001b[0m\u001b[1;33m]\u001b[0m\u001b[1;33m)\u001b[0m\u001b[1;33m\u001b[0m\u001b[0m\n\u001b[0;32m      8\u001b[0m         \u001b[0mnews_root\u001b[0m \u001b[1;33m=\u001b[0m \u001b[0mlxml\u001b[0m\u001b[1;33m.\u001b[0m\u001b[0mhtml\u001b[0m\u001b[1;33m.\u001b[0m\u001b[0mfromstring\u001b[0m\u001b[1;33m(\u001b[0m\u001b[0mnews\u001b[0m\u001b[1;33m.\u001b[0m\u001b[0mtext\u001b[0m\u001b[1;33m)\u001b[0m\u001b[1;33m\u001b[0m\u001b[0m\n\u001b[1;32m----> 9\u001b[1;33m         \u001b[0marticle\u001b[0m \u001b[1;33m=\u001b[0m \u001b[0mnews_root\u001b[0m\u001b[1;33m.\u001b[0m\u001b[0mcssselect\u001b[0m\u001b[1;33m(\u001b[0m\u001b[1;34m'div.story-text'\u001b[0m\u001b[1;33m)\u001b[0m\u001b[1;33m[\u001b[0m\u001b[1;36m0\u001b[0m\u001b[1;33m]\u001b[0m  \u001b[1;31m# 본문 추출\u001b[0m\u001b[1;33m\u001b[0m\u001b[0m\n\u001b[0m\u001b[0;32m     10\u001b[0m         \u001b[0mtext\u001b[0m \u001b[1;33m=\u001b[0m \u001b[0marticle\u001b[0m\u001b[1;33m.\u001b[0m\u001b[0mtext_content\u001b[0m\u001b[1;33m(\u001b[0m\u001b[1;33m)\u001b[0m\u001b[1;33m\u001b[0m\u001b[0m\n\u001b[0;32m     11\u001b[0m         \u001b[0marticles\u001b[0m\u001b[1;33m.\u001b[0m\u001b[0mappend\u001b[0m\u001b[1;33m(\u001b[0m\u001b[0mtext\u001b[0m\u001b[1;33m)\u001b[0m\u001b[1;33m\u001b[0m\u001b[0m\n",
      "\u001b[1;31mIndexError\u001b[0m: list index out of range"
     ]
    }
   ],
   "source": [
    "articles = []\n",
    "for page in range(2, 3):\n",
    "    search_url = url.format(query=query, page=page)\n",
    "    res = requests.get(search_url)\n",
    "    root = lxml.html.fromstring(res.text)\n",
    "    for link in root.cssselect('h3 a'):  # 링크 추출\n",
    "        news = requests.get(link.attrib['href'])\n",
    "        news_root = lxml.html.fromstring(news.text)\n",
    "        article = news_root.cssselect('div.story-text')[0]  # 본문 추출\n",
    "        text = article.text_content()\n",
    "        articles.append(text)"
   ]
  },
  {
   "cell_type": "code",
   "execution_count": null,
   "metadata": {
    "collapsed": true
   },
   "outputs": [],
   "source": [
    "len(articles)"
   ]
  },
  {
   "cell_type": "markdown",
   "metadata": {},
   "source": [
    "# 미대통령 '도널드 트럼프'가 연설 중에 가장 자주 사용하는 단어는?"
   ]
  },
  {
   "cell_type": "markdown",
   "metadata": {},
   "source": [
    "## 크롬 띄우기"
   ]
  },
  {
   "cell_type": "code",
   "execution_count": 18,
   "metadata": {
    "collapsed": true
   },
   "outputs": [],
   "source": [
    "from selenium.webdriver import Chrome"
   ]
  },
  {
   "cell_type": "code",
   "execution_count": 19,
   "metadata": {
    "collapsed": true
   },
   "outputs": [],
   "source": [
    "browser = Chrome()"
   ]
  },
  {
   "cell_type": "markdown",
   "metadata": {},
   "source": [
    "## 미국 정치전문지 POLITICO "
   ]
  },
  {
   "cell_type": "code",
   "execution_count": 20,
   "metadata": {},
   "outputs": [],
   "source": [
    "browser.get('http://www.politico.com/')"
   ]
  },
  {
   "cell_type": "markdown",
   "metadata": {},
   "source": [
    "## 검색창 클릭"
   ]
  },
  {
   "cell_type": "code",
   "execution_count": 21,
   "metadata": {
    "collapsed": true
   },
   "outputs": [],
   "source": [
    "button = browser.find_element_by_css_selector('#globalWrapper > div.global-header > div > nav.nav-micro > ul > li.subnav.micro-core-header-search-link.format-m.pos-beta > a > b')"
   ]
  },
  {
   "cell_type": "code",
   "execution_count": 22,
   "metadata": {
    "collapsed": true,
    "scrolled": true
   },
   "outputs": [],
   "source": [
    "button.click()"
   ]
  },
  {
   "cell_type": "markdown",
   "metadata": {},
   "source": [
    "## 검색"
   ]
  },
  {
   "cell_type": "code",
   "execution_count": 23,
   "metadata": {
    "collapsed": true
   },
   "outputs": [],
   "source": [
    "query = browser.find_element_by_css_selector('#searchTerm')"
   ]
  },
  {
   "cell_type": "code",
   "execution_count": 24,
   "metadata": {},
   "outputs": [],
   "source": [
    "query.send_keys('President Donald Trump speech\\n')"
   ]
  },
  {
   "cell_type": "markdown",
   "metadata": {},
   "source": [
    "## implicitly_wait"
   ]
  },
  {
   "cell_type": "markdown",
   "metadata": {},
   "source": [
    "브라우저가 로딩이 끝날 때까지 최대 몇 초간 기다리도록 설정"
   ]
  },
  {
   "cell_type": "code",
   "execution_count": 25,
   "metadata": {
    "collapsed": true
   },
   "outputs": [],
   "source": [
    "browser.implicitly_wait(5) # 로딩이 끝날 때까지 최대 5초간 대기"
   ]
  },
  {
   "cell_type": "markdown",
   "metadata": {},
   "source": [
    "## 제목 가져오기"
   ]
  },
  {
   "cell_type": "code",
   "execution_count": 26,
   "metadata": {
    "collapsed": true
   },
   "outputs": [],
   "source": [
    "titles = browser.find_elements_by_css_selector('h3 a')"
   ]
  },
  {
   "cell_type": "code",
   "execution_count": 27,
   "metadata": {},
   "outputs": [
    {
     "data": {
      "text/plain": [
       "20"
      ]
     },
     "execution_count": 27,
     "metadata": {},
     "output_type": "execute_result"
    }
   ],
   "source": [
    "len(titles)"
   ]
  },
  {
   "cell_type": "markdown",
   "metadata": {},
   "source": [
    "## 링크 받기"
   ]
  },
  {
   "cell_type": "code",
   "execution_count": 28,
   "metadata": {},
   "outputs": [
    {
     "name": "stdout",
     "output_type": "stream",
     "text": [
      "https://www.politico.com/tipsheets/morning-score/2016/11/president-donald-trump-217309\n",
      "https://www.politico.com/story/2015/06/donald-trump-2016-announcement-10-best-lines-119066.html\n",
      "https://www.politico.com/story/2017/02/trump-twitter-attacks-president-234620\n",
      "https://www.politico.com/story/2016/08/donald-trump-immigration-address-transcript-227614\n",
      "https://www.politico.com/story/2017/02/donald-trump-first-month-presidency-235118\n",
      "https://www.politico.com/story/2017/04/27/the-education-of-donald-trump-237669\n",
      "https://www.politico.com/story/2016/08/donald-trump-100-days-226850\n",
      "https://www.politico.com/blogs/2016-gop-primary-live-updates-and-results/2016/03/cnn-not-responsible-donald-trump-rise-220895\n",
      "https://www.politico.com/story/2016/09/is-donald-trump-qualified-to-be-president-228657\n",
      "https://www.politico.com/tipsheets/playbook/2015/08/jeb-jabs-hillary-in-speech-tonight-at-reagan-library-where-was-secretary-of-state-clinton-club-for-growth-takes-on-trump-ailes-truce-donald-on-fox-twice-today-212543\n",
      "https://www.politico.com/story/2016/05/donald-trumps-policy-problems-223092\n",
      "https://www.politico.com/story/2017/10/02/full-text-donald-trumps-speech-on-las-vegas-shooting-243365\n",
      "https://www.politico.com/story/2017/01/full-text-donald-trump-inauguration-speech-233907\n",
      "https://www.politico.com/story/2016/08/donald-trump-terrorism-speech-227025\n",
      "https://www.politico.com/story/2016/07/full-transcript-donald-trump-nomination-acceptance-speech-at-rnc-225974\n",
      "https://www.politico.com/story/2016/06/transcript-donald-trump-national-security-speech-224273\n",
      "https://www.politico.com/story/2016/07/rnc-2016-donald-trump-speech-takeaways-226003\n",
      "https://www.politico.com/story/2016/06/full-transcript-trump-job-plan-speech-224891\n",
      "https://www.politico.com/story/2016/03/donald-trump-endorsements-219813\n",
      "https://www.politico.com/story/2015/06/donald-trump-best-2016-tweets-119057.html\n"
     ]
    }
   ],
   "source": [
    "for title in titles:\n",
    "    print(title.get_attribute('href'))"
   ]
  },
  {
   "cell_type": "markdown",
   "metadata": {},
   "source": [
    "## 다음 페이지로 이동"
   ]
  },
  {
   "cell_type": "code",
   "execution_count": 29,
   "metadata": {
    "collapsed": true
   },
   "outputs": [],
   "source": [
    "nxt1 = browser.find_element_by_css_selector('a.button')  # Next 링크를 찾는다"
   ]
  },
  {
   "cell_type": "code",
   "execution_count": 30,
   "metadata": {
    "collapsed": true
   },
   "outputs": [],
   "source": [
    "\n",
    "browser.execute_script(\"arguments[0].scrollIntoView()\", nxt1)  # next 링크로 화면을 스크롤 시킨다"
   ]
  },
  {
   "cell_type": "code",
   "execution_count": 31,
   "metadata": {
    "collapsed": true
   },
   "outputs": [],
   "source": [
    "nxt1.click()  # Next 링크를 클릭"
   ]
  },
  {
   "cell_type": "code",
   "execution_count": 32,
   "metadata": {
    "collapsed": true
   },
   "outputs": [],
   "source": [
    "nxt2 = browser.find_element_by_css_selector('#globalWrapper > main > div:nth-child(2) > div > div > section.content-groupset.pos-alpha > div:nth-child(4) > div > div > nav > div.contextual > a:nth-child(2)')  #1페이지와 2페이지에 걸린 다음버튼 링크가 각각 다르기에 2페이지부터 시작."
   ]
  },
  {
   "cell_type": "code",
   "execution_count": 33,
   "metadata": {
    "collapsed": true
   },
   "outputs": [],
   "source": [
    "nxt2.click()"
   ]
  },
  {
   "cell_type": "code",
   "execution_count": 34,
   "metadata": {
    "collapsed": true
   },
   "outputs": [],
   "source": [
    "import time"
   ]
  },
  {
   "cell_type": "code",
   "execution_count": 35,
   "metadata": {
    "collapsed": true
   },
   "outputs": [],
   "source": [
    "time.sleep(4) # 검색 결과가 다 뜰 때까지 2초간 기다린다."
   ]
  },
  {
   "cell_type": "markdown",
   "metadata": {},
   "source": [
    "## requests로 기사 본문 긁기"
   ]
  },
  {
   "cell_type": "code",
   "execution_count": 36,
   "metadata": {
    "collapsed": true
   },
   "outputs": [],
   "source": [
    "import requests\n",
    "import lxml.html"
   ]
  },
  {
   "cell_type": "code",
   "execution_count": 37,
   "metadata": {
    "collapsed": true
   },
   "outputs": [],
   "source": [
    "url = 'http://www.politico.com/story/2017/10/02/full-text-donald-trumps-speech-on-las-vegas-shooting-243365'"
   ]
  },
  {
   "cell_type": "code",
   "execution_count": 38,
   "metadata": {
    "collapsed": true
   },
   "outputs": [],
   "source": [
    "res = requests.get(url)"
   ]
  },
  {
   "cell_type": "code",
   "execution_count": 39,
   "metadata": {
    "collapsed": true
   },
   "outputs": [],
   "source": [
    "root = lxml.html.fromstring(res.text)"
   ]
  },
  {
   "cell_type": "code",
   "execution_count": 40,
   "metadata": {
    "collapsed": true
   },
   "outputs": [],
   "source": [
    "body = root.cssselect('div.story-text')"
   ]
  },
  {
   "cell_type": "code",
   "execution_count": 41,
   "metadata": {
    "scrolled": true
   },
   "outputs": [
    {
     "data": {
      "text/plain": [
       "\"\\n                            \\n                            \\n        \\n    \\n    \\n            \\n            \\n            \\n        \\n    \\n\\n                    \\n                    \\n                    \\n                \\n            \\n    \\n        \\n            \\n                \\n                    \\n        \\n            \\n            \\n            \\n        \\n    \\n\\n            \\n        \\n    \\n\\n\\n            \\n                \\n                    Full text: Donald Trump's speech on Las Vegas shooting\\n                        \\n\\n                \\n            \\n    \\n                \\n                \\n            \\n        \\n            By POLITICO STAFF\\n    10/02/2017 11:35 AM EDT\\n                    \\n\\n        \\n        \\n             Share on Facebook\\n             Share on Twitter\\n        \\n    \\n.cms-textAlign-left{text-align:left;}.cms-textAlign-center{text-align:center;}.cms-textAlign-right{text-align:right;}.cms-magazineStyles-smallCaps{font-variant:small-caps;}.cms-playbookStyle-rubric{color:#b70000;font-weight:bold;font-family:sans-serif;}President Donald Trump's full speech on the mass shooting in Las Vegas on Oct. 2, 2017, per the White House. \\nTHE PRESIDENT: My fellow Americans, we are joined together today in sadness, shock, and grief. Last night, a gunman opened fire on a large crowd at a country music concert in Las Vegas, Nevada. He brutally murdered more than 50 people, and wounded hundreds more. It was an act of pure evil.Story Continued Below\\n\\n    \\n        \\n        \\n\\n    \\n\\n The FBI and the Department of Homeland Security are working closely with local authorities to assist with the investigation, and they will provide updates as to the investigation and how it develops. \\nI want to thank the Las Vegas Metropolitan Police Department and all of the first responders for their courageous efforts, and for helping to save the lives of so many. The speed with which they acted is miraculous, and prevented further loss of life. To have found the shooter so quickly after the first shots were fired is something for which we will always be thankful and grateful. It shows what true professionalism is all about.\\nHundreds of our fellow citizens are now mourning the sudden loss of a loved one -- a parent, a child, a brother or sister. We cannot fathom their pain. We cannot imagine their loss. To the families of the victims: We are praying for you and we are here for you, and we ask God to help see you through this very dark period. \\n    \\n        \\n            \\n                \\n        \\n        \\n            \\n                \\n                    \\n                \\n                    Trump calls Las Vegas shooting an 'act of pure evil'\\n            \\n            \\n    \\n                \\n                \\n            \\n        \\n            By LOUIS NELSON\\n    \\n    \\n    \\nScripture teaches us, “The Lord is close to the brokenhearted and saves those who are crushed in spirit.” We seek comfort in those words, for we know that God lives in the hearts of those who grieve. To the wounded who are now recovering in hospitals, we are praying for your full and speedy recovery, and pledge to you our support from this day forward.\\nIn memory of the fallen, I have directed that our great flag be flown at half-staff.\\nI will be visiting Las Vegas on Wednesday to meet with law enforcement, first responders, and the families of the victims.\\nIn moments of tragedy and horror, America comes together as one -- and it always has. We call upon the bonds that unite us -- our faith, our family, and our shared values. We call upon the bonds of citizenship, the ties of community, and the comfort of our common humanity.\\nOur unity cannot be shattered by evil. Our bonds cannot be broken by violence. And though we feel such great anger at the senseless murder of our fellow citizens, it is our love that defines us today -- and always will, forever.\\nIn times such as these, I know we are searching for some kind of meaning in the chaos, some kind of light in the darkness. The answers do not come easy. But we can take solace knowing that even the darkest space can be brightened by a single light, and even the most terrible despair can be illuminated by a single ray of hope.\\nMelania and I are praying for every American who has been hurt, wounded, or lost the ones they love so dearly in this terrible, terrible attack. We pray for the entire nation to find unity and peace. And we pray for the day when evil is banished, and the innocent are safe from hatred and from fear.\\nMay God bless the souls of the lives that are lost. May God give us the grace of healing. And may God provide the grieving families with strength to carry on. \\nThank you. God bless America. Thank you.\\n        \\n             Share on Facebook\\n             Share on Twitter\\n        \\n    \\n\\n        \\n            This article tagged under:\\n                        \\n                \\n                        Department Of Homeland Security\\n                \\n                        Las Vegas\\n                \\n                        FBI\\n                \\n                        Federal Bureau Of Investigation\\n                \\n                        Donald Trump\\n                \\n        \\n    \\n\\r\\n    \\r\\n         \\r\\n            \\r\\n                Missing out on the latest scoops? Sign up for POLITICO Playbook and get the latest news, every morning — in your inbox.\\r\\n            \\r\\n        \\r\\n    \\r\\n\\n        \\n                                    \\n                                        Show Comments\\n                                    \\n                                \\n                            \\n                                \\n                                    \\n    \\n        \\n\\n    \\n    \\n    \\n\\n        \\n                \\n\\n                    \\n                            \\n                                \\n                                Most Read\\n                        \\n                    \\n            \\n\\n            \\n\\n                       \\n                               \\n                       \\n\\n                            \\n                                    \\n                                                \\n                                                    \\n                                                        Inside Obama’s midterm campaign plans\\n                                                    \\n                                                \\n                                            \\n                                        \\n                            \\n                                    \\n                                                \\n                                                    \\n                                                        House poised to pass spending bill, but shutdown threat remains\\n                                                    \\n                                                \\n                                            \\n                                        \\n                            \\n                                    \\n                                                \\n                                                    \\n                                                         ‘He made promises that he didn’t keep’: Laid-off factory workers feel betrayed by Trump\\n                                                    \\n                                                \\n                                            \\n                                        \\n                            \\n                                    \\n                                                \\n                                                    \\n                                                        House Republicans seethe at tight-lipped Bannon\\n                                                    \\n                                                \\n                                            \\n                                        \\n                            \\n                                    \\n                                                \\n                                                    \\n                                                        McConnell plans for shutdown\\n                                                    \\n                                                \\n                                            \\n                                        \\n                            \\n                                    \\n                                                \\n                                                    \\n                                                        Mulvaney requests no funding for Consumer Financial Protection Bureau\\n                                                    \\n                                                \\n                                            \\n                                        \\n                            \\n                                    \\n                                                \\n                                                    \\n                                                        Poll: Under Trump, global approval of U.S. leadership hits historical low \\n                                                    \\n                                                \\n                                            \\n                                        \\n                            \\n                                    \\n                                                \\n                                                    \\n                                                        How Would Trump’s Immigration Crackdown Have Affected His Own Team?\\n                                                    \\n                                                \\n                                            \\n                                        \\n                            \\n                                    \\n                                                \\n                                                    \\n                                                        Amazon announces short list for second headquarters\\n                                                    \\n                                                \\n                                            \\n                                        \\n                            \\n                                    \\n                                                \\n                                                    \\n                                                        Trump Is Not a Despot\\n                                                    \\n                                                \\n                                            \\n                                        \\n                            \\n                    \\n\\n                    \\n\\n\\n    \\n        \\n            \\n                \\n                            \\n                            Politico Magazine\\n                        \\n        \\n        \\n            \\n                \\n                    \\n                            \\n                                \\n                                    \\n                            \\n                            \\n                                \\n                                    A California City’s Plan to Turn Indebted Millennials Into Local Doctors\\n                                \\n                                \\n                                    \\n                                            By Ethan Epstein\\n                                    \\n                            \\n                        \\n                    \\n                \\n                    \\n                            \\n                                \\n                                    \\n                            \\n                            \\n                                \\n                                    The Health App That Beat Hurricane Harvey\\n                                \\n                                \\n                                    \\n                                            By Erick Trickey\\n                                    \\n                            \\n                        \\n                    \\n                \\n                    \\n                            \\n                                \\n                                    \\n                            \\n                            \\n                                \\n                                    Donald Trump’s Fake News Mistake\\n                                \\n                                \\n                                    \\n                                            By Jack Shafer\\n                                    \\n                            \\n                        \\n                    \\n                \\n                    \\n                            \\n                                \\n                                    \\n                            \\n                            \\n                                \\n                                    How Would Trump’s Immigration Crackdown Have Affected His Own Team?\\n                                \\n                                \\n                                    \\n                                            By Jennifer Mendelsohn\\n                                    \\n                            \\n                        \\n                    \\n                \\n        \\n        \\n\\n\\n    \\n        \\n\\n    \\n    \\n                            \\n                        \""
      ]
     },
     "execution_count": 41,
     "metadata": {},
     "output_type": "execute_result"
    }
   ],
   "source": [
    "body[0].text_content()"
   ]
  },
  {
   "cell_type": "markdown",
   "metadata": {},
   "source": [
    "## 여러 페이지 본문 긁기"
   ]
  },
  {
   "cell_type": "code",
   "execution_count": 42,
   "metadata": {
    "collapsed": true
   },
   "outputs": [],
   "source": [
    "from urllib.parse import quote_plus\n",
    "\n",
    "import requests\n",
    "import lxml.html"
   ]
  },
  {
   "cell_type": "code",
   "execution_count": 43,
   "metadata": {
    "collapsed": true
   },
   "outputs": [],
   "source": [
    "url = 'http://www.politico.com/search/{page}?q=President%20Donald%20Trump%20speech'"
   ]
  },
  {
   "cell_type": "markdown",
   "metadata": {},
   "source": [
    "### 1페이지와 2페이지에 걸린 다음버튼 링크가 각각 다르기에 2페이지부터 시작."
   ]
  },
  {
   "cell_type": "markdown",
   "metadata": {},
   "source": [
    "## ※문제점 및 해결"
   ]
  },
  {
   "cell_type": "markdown",
   "metadata": {},
   "source": [
    "-> 1페이지 버튼에 걸린 링크만 이후에 있는 페이지 버튼에 걸린 링크와 다르기에 페이지 시작을 2페이지로 설정하여 \n",
    "시작해 줌으로써 오류발생을 방지하고 정상적으로 크롤링하였음."
   ]
  },
  {
   "cell_type": "code",
   "execution_count": 44,
   "metadata": {
    "collapsed": true
   },
   "outputs": [],
   "source": [
    "nxt1 = browser.find_element_by_css_selector('a.button')  # Next 링크를 찾는다"
   ]
  },
  {
   "cell_type": "code",
   "execution_count": 45,
   "metadata": {
    "collapsed": true
   },
   "outputs": [],
   "source": [
    "browser.execute_script(\"arguments[0].scrollIntoView()\", nxt1)  # next 링크로 화면을 스크롤 시킨다"
   ]
  },
  {
   "cell_type": "code",
   "execution_count": 46,
   "metadata": {
    "collapsed": true
   },
   "outputs": [],
   "source": [
    "nxt1.click()  # Next 링크를 클릭"
   ]
  },
  {
   "cell_type": "code",
   "execution_count": 47,
   "metadata": {
    "collapsed": true
   },
   "outputs": [],
   "source": [
    "articles = []  # 기사를 저장할 리스트\n",
    "for page in range(2,22):  # 22페이지까지 \n",
    "    titles = browser.find_elements_by_css_selector('h3 a')  # 기사 제목 찾기\n",
    "    for title in titles:\n",
    "        url = title.get_attribute('href')  # 기사 주소\n",
    "        res = requests.get(url)  # requests로 기사 가져오기\n",
    "        root = lxml.html.fromstring(res.text)  # HTML 처리\n",
    "        body = root.cssselect('div.story-text')  # body 클래스 선택\n",
    "        if body:  # body가 존재하는 경우에만\n",
    "            articles.append(body[0].text_content())  # 텍스트 내용 가져오기\n",
    "    \n",
    "    nxt = browser.find_element_by_css_selector('#globalWrapper > main > div:nth-child(2) > div > div > section.content-groupset.pos-alpha > div:nth-child(4) > div > div > nav > div.contextual > a:nth-child(2)')\n",
    "    browser.execute_script(\"arguments[0].scrollIntoView()\", nxt)  # next 링크로 화면을 스크롤 시킨다\n",
    "    nxt.click()\n",
    "    time.sleep(3)"
   ]
  },
  {
   "cell_type": "code",
   "execution_count": 49,
   "metadata": {},
   "outputs": [
    {
     "data": {
      "text/plain": [
       "388"
      ]
     },
     "execution_count": 49,
     "metadata": {},
     "output_type": "execute_result"
    }
   ],
   "source": [
    "len(articles)"
   ]
  },
  {
   "cell_type": "code",
   "execution_count": 50,
   "metadata": {},
   "outputs": [
    {
     "name": "stderr",
     "output_type": "stream",
     "text": [
      "IOPub data rate exceeded.\n",
      "The notebook server will temporarily stop sending output\n",
      "to the client in order to avoid crashing it.\n",
      "To change this limit, set the config variable\n",
      "`--NotebookApp.iopub_data_rate_limit`.\n"
     ]
    }
   ],
   "source": [
    "articles"
   ]
  },
  {
   "cell_type": "markdown",
   "metadata": {},
   "source": [
    "## 빈도순 단어 보기"
   ]
  },
  {
   "cell_type": "code",
   "execution_count": 51,
   "metadata": {
    "collapsed": true
   },
   "outputs": [],
   "source": [
    "from konlpy.tag import Komoran"
   ]
  },
  {
   "cell_type": "code",
   "execution_count": 52,
   "metadata": {
    "collapsed": true
   },
   "outputs": [],
   "source": [
    "tagger = Komoran()"
   ]
  },
  {
   "cell_type": "code",
   "execution_count": 53,
   "metadata": {
    "collapsed": true
   },
   "outputs": [],
   "source": [
    "from sklearn.feature_extraction.text import CountVectorizer"
   ]
  },
  {
   "cell_type": "code",
   "execution_count": 54,
   "metadata": {
    "collapsed": true
   },
   "outputs": [],
   "source": [
    "def get_noun(body):\n",
    "    nouns = tagger.nouns(body)\n",
    "    return [n for n in nouns if len(n) > 2]  # 3글자 이상인 명사만 추출"
   ]
  },
  {
   "cell_type": "code",
   "execution_count": 55,
   "metadata": {
    "collapsed": true
   },
   "outputs": [],
   "source": [
    "cv = CountVectorizer(stop_words=None, analyzer=get_noun, max_features=1000)"
   ]
  },
  {
   "cell_type": "code",
   "execution_count": 56,
   "metadata": {
    "collapsed": true
   },
   "outputs": [],
   "source": [
    "tdm = cv.fit_transform(articles)"
   ]
  },
  {
   "cell_type": "code",
   "execution_count": 57,
   "metadata": {
    "collapsed": true
   },
   "outputs": [],
   "source": [
    "import numpy"
   ]
  },
  {
   "cell_type": "code",
   "execution_count": 58,
   "metadata": {
    "collapsed": true
   },
   "outputs": [],
   "source": [
    "import operator"
   ]
  },
  {
   "cell_type": "code",
   "execution_count": 59,
   "metadata": {
    "collapsed": true
   },
   "outputs": [],
   "source": [
    "words = cv.get_feature_names()"
   ]
  },
  {
   "cell_type": "code",
   "execution_count": 60,
   "metadata": {
    "collapsed": true
   },
   "outputs": [],
   "source": [
    "count_mat = tdm.sum(axis=0)"
   ]
  },
  {
   "cell_type": "code",
   "execution_count": 61,
   "metadata": {
    "collapsed": true
   },
   "outputs": [],
   "source": [
    "count = numpy.squeeze(numpy.asarray(count_mat))"
   ]
  },
  {
   "cell_type": "code",
   "execution_count": 62,
   "metadata": {
    "collapsed": true
   },
   "outputs": [],
   "source": [
    "word_count = list(zip(words, count))"
   ]
  },
  {
   "cell_type": "code",
   "execution_count": 63,
   "metadata": {
    "collapsed": true
   },
   "outputs": [],
   "source": [
    "word_count = sorted(word_count, key=operator.itemgetter(1), reverse=True)"
   ]
  },
  {
   "cell_type": "code",
   "execution_count": 64,
   "metadata": {},
   "outputs": [
    {
     "data": {
      "text/plain": [
       "[('U.S.', 1203),\n",
       " ('I am', 169),\n",
       " ('The Wall', 96),\n",
       " (\"I've\", 68),\n",
       " ('CBS News', 31),\n",
       " ('Thank you', 31),\n",
       " ('L.A.', 30),\n",
       " ('The U.S.', 30),\n",
       " ('Jr.', 29),\n",
       " ('The Associated Press', 25),\n",
       " ('U.K.', 21),\n",
       " ('USA Today', 21),\n",
       " (\"Christie's\", 18),\n",
       " ('Los Angeles Times', 16),\n",
       " ('AT&T', 14),\n",
       " ('C-SPAN', 12),\n",
       " ('The Guardian', 11),\n",
       " ('The Times', 9),\n",
       " ('G-20', 8),\n",
       " ('H-1', 8),\n",
       " ('Associated Press', 7),\n",
       " ('H-2', 7),\n",
       " ('G.O', 6),\n",
       " ('K-12', 6),\n",
       " ('MS-13', 6),\n",
       " ('Made in', 6),\n",
       " ('S&P 500', 6),\n",
       " ('Saturday Night Live', 6),\n",
       " ('You and I', 6),\n",
       " ('F-35', 5),\n",
       " ('No. 1', 5),\n",
       " ('I AM', 4),\n",
       " ('I love you', 4),\n",
       " ('Rolling Stone', 4),\n",
       " ('S&P', 4),\n",
       " ('Sunday Morning', 4),\n",
       " ('The Economist', 4),\n",
       " ('This time', 4),\n",
       " ('G20', 3),\n",
       " ('Good Morning', 3),\n",
       " ('Google News', 3),\n",
       " ('Google Play', 3),\n",
       " (\"McDonald's\", 3),\n",
       " ('Ph.D', 3),\n",
       " ('South Side', 3),\n",
       " ('The Chronicle of Higher Education', 3),\n",
       " ('The Way', 3),\n",
       " ('A little bit', 2),\n",
       " ('A.J.', 2),\n",
       " ('AK-47', 2),\n",
       " ('Baltimore Sun', 2),\n",
       " ('Come on', 2),\n",
       " ('E-mail', 2),\n",
       " (\"I don't know why\", 2),\n",
       " ('Law and Order', 2),\n",
       " ('O.K.', 2),\n",
       " ('One Nation', 2),\n",
       " ('R.I.P.', 2),\n",
       " ('San Jose Mercury News', 2),\n",
       " ('The End', 2),\n",
       " ('The Voice', 2),\n",
       " ('U.S.A', 2),\n",
       " ('20th Century Fox', 1),\n",
       " ('2S3', 1),\n",
       " ('2pm', 1),\n",
       " ('50 Cent', 1),\n",
       " ('7 days', 1),\n",
       " ('A-10', 1),\n",
       " ('A15', 1),\n",
       " ('Amazon.com', 1),\n",
       " ('Apple Inc.', 1),\n",
       " ('B-52', 1),\n",
       " ('B.C', 1),\n",
       " ('Born This Way', 1),\n",
       " ('CO2', 1),\n",
       " ('Christian Science Monitor', 1),\n",
       " ('Chronicle of Higher Education', 1),\n",
       " ('D1H', 1),\n",
       " ('Dear Friend', 1),\n",
       " ('E.T.', 1),\n",
       " ('Entertainment Weekly', 1),\n",
       " ('F-15', 1),\n",
       " ('Good morning', 1),\n",
       " ('Guinness Book', 1),\n",
       " ('H&K', 1),\n",
       " ('H2O', 1),\n",
       " ('Her Majesty', 1),\n",
       " ('Internet Protocol', 1),\n",
       " ('Jimmy Kimmel Live!', 1),\n",
       " ('KF-16', 1),\n",
       " ('Kanye West', 1),\n",
       " ('Ke$ha', 1),\n",
       " ('Lost and Found', 1),\n",
       " ('Merry Christmas', 1),\n",
       " ('My name', 1),\n",
       " ('NEW WORLD', 1),\n",
       " ('NO NAME', 1),\n",
       " ('Never again', 1),\n",
       " ('New Generation', 1),\n",
       " ('Oh My God', 1),\n",
       " ('PM2.5', 1),\n",
       " ('People.com', 1),\n",
       " ('Plan B', 1),\n",
       " ('R.E.M.', 1),\n",
       " ('Real Salt Lake', 1),\n",
       " ('Rock and Roll', 1),\n",
       " ('Secret Code', 1),\n",
       " ('Seventh Ave.', 1),\n",
       " ('Shut Up', 1),\n",
       " ('Shut up', 1),\n",
       " ('Sony Music', 1),\n",
       " ('Special Edition', 1),\n",
       " ('Stand Up', 1),\n",
       " ('Step Up', 1),\n",
       " ('TMZ.com', 1),\n",
       " ('Taylor Swift', 1),\n",
       " ('Thank You', 1),\n",
       " ('The Baltimore Sun', 1),\n",
       " ('The City', 1),\n",
       " ('The Foundation', 1),\n",
       " ('The Queen', 1),\n",
       " ('The US', 1),\n",
       " ('The USA', 1),\n",
       " ('The Very Best Of', 1),\n",
       " ('U. K.', 1),\n",
       " ('U.S. News & World Report', 1),\n",
       " ('U.S.A.', 1),\n",
       " ('WORLD ORDER', 1),\n",
       " ('What The Hell', 1),\n",
       " ('Why?', 1),\n",
       " ('With You', 1)]"
      ]
     },
     "execution_count": 64,
     "metadata": {},
     "output_type": "execute_result"
    }
   ],
   "source": [
    "word_count"
   ]
  },
  {
   "cell_type": "markdown",
   "metadata": {},
   "source": [
    "## WordCloud"
   ]
  },
  {
   "cell_type": "code",
   "execution_count": 65,
   "metadata": {
    "collapsed": true
   },
   "outputs": [],
   "source": [
    "%matplotlib inline"
   ]
  },
  {
   "cell_type": "code",
   "execution_count": 66,
   "metadata": {
    "collapsed": true
   },
   "outputs": [],
   "source": [
    "from matplotlib import pyplot\n",
    "from wordcloud import WordCloud"
   ]
  },
  {
   "cell_type": "code",
   "execution_count": 67,
   "metadata": {
    "collapsed": true
   },
   "outputs": [],
   "source": [
    "wc = WordCloud(font_path='C:\\\\Windows\\\\Fonts\\\\malgun.ttf', background_color='white', width=400, height=300)"
   ]
  },
  {
   "cell_type": "code",
   "execution_count": 68,
   "metadata": {
    "collapsed": true
   },
   "outputs": [],
   "source": [
    "cloud = wc.fit_words(dict(word_count))"
   ]
  },
  {
   "cell_type": "code",
   "execution_count": 69,
   "metadata": {},
   "outputs": [
    {
     "data": {
      "image/png": "[encoded data removed]",
      "text/plain": [
       "<matplotlib.figure.Figure at 0x1a2afdcb4a8>"
      ]
     },
     "metadata": {},
     "output_type": "display_data"
    }
   ],
   "source": [
    "pyplot.figure(figsize=(20, 10))\n",
    "pyplot.imshow(cloud)\n",
    "pyplot.axis(\"off\")\n",
    "pyplot.show()"
   ]
  },
  {
   "cell_type": "code",
   "execution_count": null,
   "metadata": {
    "collapsed": true
   },
   "outputs": [],
   "source": []
  }
 ],
 "metadata": {
  "kernelspec": {
   "display_name": "Python 3",
   "language": "python",
   "name": "python3"
  },
  "language_info": {
   "codemirror_mode": {
    "name": "ipython",
    "version": 3
   },
   "file_extension": ".py",
   "mimetype": "text/x-python",
   "name": "python",
   "nbconvert_exporter": "python",
   "pygments_lexer": "ipython3",
   "version": "3.6.3"
  }
 },
 "nbformat": 4,
 "nbformat_minor": 2
}
